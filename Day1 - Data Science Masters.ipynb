{
  "cells": [
    {
      "cell_type": "code",
      "execution_count": null,
      "id": "f1a32916-0b22-4891-9618-8c987c4a57f3",
      "metadata": {
        "id": "f1a32916-0b22-4891-9618-8c987c4a57f3"
      },
      "outputs": [],
      "source": [
        "a=10"
      ]
    },
    {
      "cell_type": "code",
      "execution_count": null,
      "id": "3cc780eb-77d9-49ff-8f2c-952f6d6762cd",
      "metadata": {
        "id": "3cc780eb-77d9-49ff-8f2c-952f6d6762cd",
        "outputId": "b364dcd8-68c3-4dc5-eb18-eead4b5ec8bf"
      },
      "outputs": [
        {
          "data": {
            "text/plain": [
              "10"
            ]
          },
          "execution_count": 17,
          "metadata": {},
          "output_type": "execute_result"
        }
      ],
      "source": [
        "a"
      ]
    },
    {
      "cell_type": "code",
      "execution_count": null,
      "id": "3eb5e2df-507e-4fcc-970e-51fd94d17523",
      "metadata": {
        "id": "3eb5e2df-507e-4fcc-970e-51fd94d17523",
        "outputId": "9ded973e-5d2d-4969-9e97-d89c2fef5da3"
      },
      "outputs": [
        {
          "data": {
            "text/plain": [
              "20"
            ]
          },
          "execution_count": 20,
          "metadata": {},
          "output_type": "execute_result"
        }
      ],
      "source": [
        "## Comments\n",
        "## for single we use ##\n",
        "## this is a function\n",
        "# this is a comment\n",
        "a=20\n",
        "a"
      ]
    },
    {
      "cell_type": "code",
      "execution_count": null,
      "id": "2389175a-cca1-4a66-acb8-84b6dd4b2801",
      "metadata": {
        "id": "2389175a-cca1-4a66-acb8-84b6dd4b2801",
        "outputId": "5dbed55f-f9d4-45aa-cce9-e0bcd0c75cf6"
      },
      "outputs": [
        {
          "data": {
            "text/plain": [
              "20"
            ]
          },
          "execution_count": 23,
          "metadata": {},
          "output_type": "execute_result"
        }
      ],
      "source": [
        "\"\"\"\n",
        "Example of multiline comments\n",
        "hello this is a example of python\n",
        "dsfsdfdfdsf\n",
        "dfsdfsdfsdfdsf\n",
        "dfdsfdsfsdf\n",
        "\"\"\"\n",
        "a=20\n",
        "a"
      ]
    },
    {
      "cell_type": "markdown",
      "id": "71fbfe47-4824-42a6-87a9-7e0c2f71adb3",
      "metadata": {
        "id": "71fbfe47-4824-42a6-87a9-7e0c2f71adb3"
      },
      "source": [
        "# hello\n",
        "## hello1\n",
        "### hello2\n",
        "\n",
        "1. hello guys how are you"
      ]
    },
    {
      "cell_type": "markdown",
      "id": "e473a53e-c6a6-4b07-9f6b-98ef306e47b1",
      "metadata": {
        "id": "e473a53e-c6a6-4b07-9f6b-98ef306e47b1"
      },
      "source": [
        "### Numbers"
      ]
    },
    {
      "cell_type": "code",
      "execution_count": null,
      "id": "e3d3ec40-acb1-4ff6-a8a9-c0d27c8ffe00",
      "metadata": {
        "id": "e3d3ec40-acb1-4ff6-a8a9-c0d27c8ffe00",
        "outputId": "cf8a9575-90f7-42d9-b263-fb54b68f7d22"
      },
      "outputs": [
        {
          "data": {
            "text/plain": [
              "4"
            ]
          },
          "execution_count": 26,
          "metadata": {},
          "output_type": "execute_result"
        }
      ],
      "source": [
        "1+3"
      ]
    },
    {
      "cell_type": "code",
      "execution_count": null,
      "id": "78a10e2f-7636-45e4-8ea2-1eabce896551",
      "metadata": {
        "id": "78a10e2f-7636-45e4-8ea2-1eabce896551",
        "outputId": "950e7460-5409-48b7-ccb4-b3d90ef2051c"
      },
      "outputs": [
        {
          "name": "stdout",
          "output_type": "stream",
          "text": [
            "4\n"
          ]
        }
      ],
      "source": [
        "print(1+3)"
      ]
    },
    {
      "cell_type": "code",
      "execution_count": null,
      "id": "beb5cced-2e48-49a7-a6d3-8b8f35670b73",
      "metadata": {
        "id": "beb5cced-2e48-49a7-a6d3-8b8f35670b73",
        "outputId": "6d4e7292-c2ee-4466-e411-5e523c3133ba"
      },
      "outputs": [
        {
          "name": "stdout",
          "output_type": "stream",
          "text": [
            "5\n"
          ]
        }
      ],
      "source": [
        "a=5\n",
        "print(a)"
      ]
    },
    {
      "cell_type": "code",
      "execution_count": null,
      "id": "caca7433-147f-48fa-ae22-6d3af37ca424",
      "metadata": {
        "id": "caca7433-147f-48fa-ae22-6d3af37ca424",
        "outputId": "f667304a-19da-4f30-ab61-6f336a02f5f8"
      },
      "outputs": [
        {
          "name": "stdout",
          "output_type": "stream",
          "text": [
            "hello world my name is krish i work in \n",
            " PW skills and ineuron\n"
          ]
        }
      ],
      "source": [
        "print(\"hello world my name is krish i work in \\n PW skills and ineuron\")"
      ]
    },
    {
      "cell_type": "markdown",
      "id": "f4d82d79-aed7-49b4-90f8-e08a332d381a",
      "metadata": {
        "id": "f4d82d79-aed7-49b4-90f8-e08a332d381a"
      },
      "source": [
        "## Variables Assignment"
      ]
    },
    {
      "cell_type": "code",
      "execution_count": null,
      "id": "971ea0ae-5a22-46c6-843c-4352b7d9f36b",
      "metadata": {
        "id": "971ea0ae-5a22-46c6-843c-4352b7d9f36b"
      },
      "outputs": [],
      "source": [
        "name=\"Krish\"\n",
        "company=\"PWskills and ineuron\""
      ]
    },
    {
      "cell_type": "code",
      "execution_count": null,
      "id": "d3ed327b-2923-488b-8fe8-af3270872b29",
      "metadata": {
        "id": "d3ed327b-2923-488b-8fe8-af3270872b29",
        "outputId": "4559b706-d84a-442f-ec4a-e93ac97d163b"
      },
      "outputs": [
        {
          "data": {
            "text/plain": [
              "str"
            ]
          },
          "execution_count": 45,
          "metadata": {},
          "output_type": "execute_result"
        }
      ],
      "source": [
        "type(\"sfdfdfsdf\")"
      ]
    },
    {
      "cell_type": "code",
      "execution_count": null,
      "id": "e5c73eba-4909-4c22-b901-562e068e4e69",
      "metadata": {
        "id": "e5c73eba-4909-4c22-b901-562e068e4e69",
        "outputId": "88a7eb0d-7f9d-4fe9-9dd0-4ef20a17bc25"
      },
      "outputs": [
        {
          "data": {
            "text/plain": [
              "str"
            ]
          },
          "execution_count": 46,
          "metadata": {},
          "output_type": "execute_result"
        }
      ],
      "source": [
        "type(name)"
      ]
    },
    {
      "cell_type": "code",
      "execution_count": null,
      "id": "605bb551-5105-42f7-969c-2a4bca0997c2",
      "metadata": {
        "id": "605bb551-5105-42f7-969c-2a4bca0997c2"
      },
      "outputs": [],
      "source": []
    },
    {
      "cell_type": "code",
      "execution_count": null,
      "id": "ec3b5960-7990-41ae-b562-10cca4727062",
      "metadata": {
        "id": "ec3b5960-7990-41ae-b562-10cca4727062"
      },
      "outputs": [],
      "source": [
        "name=\"Bala\""
      ]
    },
    {
      "cell_type": "code",
      "execution_count": null,
      "id": "f3eaf7f2-3cea-488e-a9d8-7dbeb0bce03e",
      "metadata": {
        "id": "f3eaf7f2-3cea-488e-a9d8-7dbeb0bce03e",
        "outputId": "57defcb0-8996-4281-dd3c-2b8011d3bef4"
      },
      "outputs": [
        {
          "data": {
            "text/plain": [
              "'Bala'"
            ]
          },
          "execution_count": 40,
          "metadata": {},
          "output_type": "execute_result"
        }
      ],
      "source": [
        "name"
      ]
    },
    {
      "cell_type": "code",
      "execution_count": null,
      "id": "e42fc652-5930-4bd5-829f-eea22a553c42",
      "metadata": {
        "id": "e42fc652-5930-4bd5-829f-eea22a553c42",
        "outputId": "cf2bacbe-2296-4f7c-c151-35169bb17c2c"
      },
      "outputs": [
        {
          "data": {
            "text/plain": [
              "'PWskills and ineuron'"
            ]
          },
          "execution_count": 36,
          "metadata": {},
          "output_type": "execute_result"
        }
      ],
      "source": [
        "company"
      ]
    },
    {
      "cell_type": "code",
      "execution_count": null,
      "id": "127ab07b-7788-44cd-81a4-1dc95890f0b9",
      "metadata": {
        "id": "127ab07b-7788-44cd-81a4-1dc95890f0b9"
      },
      "outputs": [],
      "source": [
        "number=10"
      ]
    },
    {
      "cell_type": "code",
      "execution_count": null,
      "id": "55cc9205-c02b-4cd1-8b94-52e8228c3488",
      "metadata": {
        "id": "55cc9205-c02b-4cd1-8b94-52e8228c3488",
        "outputId": "b34b6a99-507a-441e-ab05-42e8e31cada2"
      },
      "outputs": [
        {
          "data": {
            "text/plain": [
              "int"
            ]
          },
          "execution_count": 47,
          "metadata": {},
          "output_type": "execute_result"
        }
      ],
      "source": [
        "type(number)"
      ]
    },
    {
      "cell_type": "code",
      "execution_count": null,
      "id": "e39cea8f-8787-4204-ba53-49d4c85d553c",
      "metadata": {
        "id": "e39cea8f-8787-4204-ba53-49d4c85d553c",
        "outputId": "e3b5f057-cf0a-4c30-8c78-777531b50f80"
      },
      "outputs": [
        {
          "data": {
            "text/plain": [
              "20"
            ]
          },
          "execution_count": 41,
          "metadata": {},
          "output_type": "execute_result"
        }
      ],
      "source": [
        "number=20\n",
        "number"
      ]
    },
    {
      "cell_type": "code",
      "execution_count": null,
      "id": "8e39ba66-b14d-48f1-80e9-db85a7c16ad5",
      "metadata": {
        "id": "8e39ba66-b14d-48f1-80e9-db85a7c16ad5"
      },
      "outputs": [],
      "source": [
        "decimal_num=2.5"
      ]
    },
    {
      "cell_type": "code",
      "execution_count": null,
      "id": "296f5308-8cc5-4309-922b-926178aa5380",
      "metadata": {
        "id": "296f5308-8cc5-4309-922b-926178aa5380",
        "outputId": "484b6eab-16bc-43cd-94e9-4481bfbc1cec"
      },
      "outputs": [
        {
          "data": {
            "text/plain": [
              "2.5"
            ]
          },
          "execution_count": 49,
          "metadata": {},
          "output_type": "execute_result"
        }
      ],
      "source": [
        "decimal_num"
      ]
    },
    {
      "cell_type": "code",
      "execution_count": null,
      "id": "1e8f96c4-c830-460e-98f0-384414a277f3",
      "metadata": {
        "id": "1e8f96c4-c830-460e-98f0-384414a277f3",
        "outputId": "e50580e8-4421-473b-afa1-62ce600ac33d"
      },
      "outputs": [
        {
          "data": {
            "text/plain": [
              "float"
            ]
          },
          "execution_count": 50,
          "metadata": {},
          "output_type": "execute_result"
        }
      ],
      "source": [
        "type(decimal_num)"
      ]
    },
    {
      "cell_type": "code",
      "execution_count": null,
      "id": "eb82eef2-1ab0-4e4d-891c-118db4ab1253",
      "metadata": {
        "id": "eb82eef2-1ab0-4e4d-891c-118db4ab1253",
        "outputId": "ce3b708a-efec-44ed-ecf0-e583ad2a4186"
      },
      "outputs": [
        {
          "data": {
            "text/plain": [
              "str"
            ]
          },
          "execution_count": 51,
          "metadata": {},
          "output_type": "execute_result"
        }
      ],
      "source": [
        "type(\"hello\")"
      ]
    },
    {
      "cell_type": "code",
      "execution_count": null,
      "id": "83faa0d6-e219-4ec8-a1d8-6f21bc06af38",
      "metadata": {
        "id": "83faa0d6-e219-4ec8-a1d8-6f21bc06af38",
        "outputId": "eaea99e5-78fb-4f91-aef0-6f3a723ba785"
      },
      "outputs": [
        {
          "data": {
            "text/plain": [
              "complex"
            ]
          },
          "execution_count": 54,
          "metadata": {},
          "output_type": "execute_result"
        }
      ],
      "source": [
        "type(1+2j)"
      ]
    },
    {
      "cell_type": "code",
      "execution_count": null,
      "id": "6b3ebbb0-abf7-4a6f-8ef1-7f2c7dd60e2c",
      "metadata": {
        "id": "6b3ebbb0-abf7-4a6f-8ef1-7f2c7dd60e2c",
        "outputId": "fd59bd67-dc75-499a-998f-67a8baa7df9f"
      },
      "outputs": [
        {
          "name": "stdout",
          "output_type": "stream",
          "text": [
            "hello\n",
            "hello\n"
          ]
        }
      ],
      "source": [
        "print('hello')\n",
        "print(\"hello\")"
      ]
    },
    {
      "cell_type": "code",
      "execution_count": null,
      "id": "d1544044-b8db-4445-93ad-15033b400802",
      "metadata": {
        "id": "d1544044-b8db-4445-93ad-15033b400802"
      },
      "outputs": [],
      "source": [
        "##bad way\n",
        "## dont start the variable name with numbers\n",
        "1a\n",
        "3answer"
      ]
    },
    {
      "cell_type": "code",
      "execution_count": null,
      "id": "9eda26fa-89ad-4245-ae05-4a9c5882ea52",
      "metadata": {
        "id": "9eda26fa-89ad-4245-ae05-4a9c5882ea52"
      },
      "outputs": [],
      "source": [
        "number1=23"
      ]
    },
    {
      "cell_type": "code",
      "execution_count": null,
      "id": "932358cd-5192-45ef-ab65-377df8349d0c",
      "metadata": {
        "id": "932358cd-5192-45ef-ab65-377df8349d0c",
        "outputId": "04885c4e-5b67-42bf-c350-e8990e156868"
      },
      "outputs": [
        {
          "name": "stdout",
          "output_type": "stream",
          "text": [
            "ineuron\n",
            "PWSKILLS\n"
          ]
        }
      ],
      "source": [
        "## Variables are case senssitive\n",
        "company='ineuron'\n",
        "Company='PWSKILLS'\n",
        "print(company)\n",
        "print(Company)"
      ]
    },
    {
      "cell_type": "code",
      "execution_count": null,
      "id": "b6d6fb21-beb8-4cff-9626-a74b9c4c09c9",
      "metadata": {
        "id": "b6d6fb21-beb8-4cff-9626-a74b9c4c09c9"
      },
      "outputs": [],
      "source": [
        "## Reserved keywords\n",
        "'''\n",
        "int,float,len,complex,bool,str,return,yield\n",
        "'''"
      ]
    },
    {
      "cell_type": "code",
      "execution_count": null,
      "id": "6a734953-17b8-4196-90de-4b7616332766",
      "metadata": {
        "id": "6a734953-17b8-4196-90de-4b7616332766"
      },
      "outputs": [],
      "source": [
        "float=32"
      ]
    },
    {
      "cell_type": "code",
      "execution_count": null,
      "id": "8a2b871d-6451-4919-9a47-f8c858b35267",
      "metadata": {
        "id": "8a2b871d-6451-4919-9a47-f8c858b35267",
        "outputId": "28b15f9d-a3a9-4c4e-f6f0-88f081b572ae"
      },
      "outputs": [
        {
          "data": {
            "text/plain": [
              "True"
            ]
          },
          "execution_count": 61,
          "metadata": {},
          "output_type": "execute_result"
        }
      ],
      "source": [
        "##Boolean\n",
        "True"
      ]
    },
    {
      "cell_type": "code",
      "execution_count": null,
      "id": "13b61e46-94d4-4ca0-bf8d-e37037e4e094",
      "metadata": {
        "id": "13b61e46-94d4-4ca0-bf8d-e37037e4e094",
        "outputId": "1c2f9678-a6fa-41c2-b3fc-d2dc6bf0ac87"
      },
      "outputs": [
        {
          "data": {
            "text/plain": [
              "False"
            ]
          },
          "execution_count": 62,
          "metadata": {},
          "output_type": "execute_result"
        }
      ],
      "source": [
        "False"
      ]
    },
    {
      "cell_type": "code",
      "execution_count": null,
      "id": "5dab5101-167b-4581-a849-e0498b5c317c",
      "metadata": {
        "id": "5dab5101-167b-4581-a849-e0498b5c317c",
        "outputId": "1510f8db-add2-45d3-977e-d26dd7d67a30"
      },
      "outputs": [
        {
          "data": {
            "text/plain": [
              "False"
            ]
          },
          "execution_count": 63,
          "metadata": {},
          "output_type": "execute_result"
        }
      ],
      "source": [
        "True and False"
      ]
    },
    {
      "cell_type": "code",
      "execution_count": null,
      "id": "fe2c1827-bfba-4267-a8e9-900c0387f019",
      "metadata": {
        "id": "fe2c1827-bfba-4267-a8e9-900c0387f019",
        "outputId": "07188733-59df-47bf-f36d-dc79242cf757"
      },
      "outputs": [
        {
          "data": {
            "text/plain": [
              "True"
            ]
          },
          "execution_count": 64,
          "metadata": {},
          "output_type": "execute_result"
        }
      ],
      "source": [
        "True or False"
      ]
    },
    {
      "cell_type": "code",
      "execution_count": null,
      "id": "c120399d-d02c-4770-bc6a-384d336daff9",
      "metadata": {
        "id": "c120399d-d02c-4770-bc6a-384d336daff9",
        "outputId": "b82f97f1-9c4a-43f4-cd31-bcd62fc022d4"
      },
      "outputs": [
        {
          "data": {
            "text/plain": [
              "False"
            ]
          },
          "execution_count": 67,
          "metadata": {},
          "output_type": "execute_result"
        }
      ],
      "source": [
        "not True"
      ]
    },
    {
      "cell_type": "code",
      "execution_count": null,
      "id": "1351bec8-2e41-458d-9dae-c0268f28fd40",
      "metadata": {
        "id": "1351bec8-2e41-458d-9dae-c0268f28fd40",
        "outputId": "b0369df3-36dd-4487-8ef7-8e6737371e0c"
      },
      "outputs": [
        {
          "data": {
            "text/plain": [
              "bool"
            ]
          },
          "execution_count": 69,
          "metadata": {},
          "output_type": "execute_result"
        }
      ],
      "source": [
        "type(not False)"
      ]
    },
    {
      "cell_type": "code",
      "execution_count": null,
      "id": "53534b69-4ce1-4853-9f82-9fed89d189f1",
      "metadata": {
        "id": "53534b69-4ce1-4853-9f82-9fed89d189f1",
        "outputId": "cc9a6620-3fd8-4ab2-b21f-ef1889b89e5b"
      },
      "outputs": [
        {
          "data": {
            "text/plain": [
              "False"
            ]
          },
          "execution_count": 77,
          "metadata": {},
          "output_type": "execute_result"
        }
      ],
      "source": [
        "## Typecasting\n",
        "bool(0)"
      ]
    },
    {
      "cell_type": "code",
      "execution_count": null,
      "id": "80170bec-41e6-47f4-8175-31903d56ab07",
      "metadata": {
        "id": "80170bec-41e6-47f4-8175-31903d56ab07",
        "outputId": "15cf30fb-5a3c-4de6-813a-4638c2a2796f"
      },
      "outputs": [
        {
          "data": {
            "text/plain": [
              "'23'"
            ]
          },
          "execution_count": 78,
          "metadata": {},
          "output_type": "execute_result"
        }
      ],
      "source": [
        "str(23)"
      ]
    },
    {
      "cell_type": "code",
      "execution_count": null,
      "id": "2f8b8904-63f7-4f58-9c07-33e3ed046c57",
      "metadata": {
        "id": "2f8b8904-63f7-4f58-9c07-33e3ed046c57",
        "outputId": "a78d13b6-b6d9-4f8b-a0a1-650ff0d2f3db"
      },
      "outputs": [
        {
          "data": {
            "text/plain": [
              "23"
            ]
          },
          "execution_count": 79,
          "metadata": {},
          "output_type": "execute_result"
        }
      ],
      "source": [
        "int('23')"
      ]
    },
    {
      "cell_type": "code",
      "execution_count": null,
      "id": "f1ec5c3f-0c4b-40e1-9386-d06d7c818f36",
      "metadata": {
        "id": "f1ec5c3f-0c4b-40e1-9386-d06d7c818f36",
        "outputId": "30193137-7bb6-410b-a316-6fa0d3d0aa20"
      },
      "outputs": [
        {
          "data": {
            "text/plain": [
              "int"
            ]
          },
          "execution_count": 80,
          "metadata": {},
          "output_type": "execute_result"
        }
      ],
      "source": [
        "type(int('23'))"
      ]
    },
    {
      "cell_type": "code",
      "execution_count": null,
      "id": "ba88b2c8-28ef-4480-a3a5-7a6749983e86",
      "metadata": {
        "id": "ba88b2c8-28ef-4480-a3a5-7a6749983e86",
        "outputId": "ce5fc8c2-e3aa-44f0-d0fa-51231f4030fd"
      },
      "outputs": [
        {
          "data": {
            "text/plain": [
              "True"
            ]
          },
          "execution_count": 71,
          "metadata": {},
          "output_type": "execute_result"
        }
      ],
      "source": [
        "bool(1)"
      ]
    },
    {
      "cell_type": "code",
      "execution_count": null,
      "id": "d640e261-2add-4bcc-863a-61720fbf9ca6",
      "metadata": {
        "id": "d640e261-2add-4bcc-863a-61720fbf9ca6",
        "outputId": "65b8b72f-f023-4138-df81-4dae6a249625"
      },
      "outputs": [
        {
          "name": "stdout",
          "output_type": "stream",
          "text": [
            "True\n"
          ]
        }
      ],
      "source": [
        "a=1\n",
        "if bool(a)==True:\n",
        "    \n",
        "    print(\"True\")"
      ]
    },
    {
      "cell_type": "code",
      "execution_count": null,
      "id": "23ad6da2-7e44-4f8a-99f3-0f994aadbffe",
      "metadata": {
        "id": "23ad6da2-7e44-4f8a-99f3-0f994aadbffe",
        "outputId": "9235d1be-ea8f-4b9a-b17c-a3ee61f6de6e"
      },
      "outputs": [
        {
          "data": {
            "text/plain": [
              "123"
            ]
          },
          "execution_count": 85,
          "metadata": {},
          "output_type": "execute_result"
        }
      ],
      "source": [
        "int('123')"
      ]
    },
    {
      "cell_type": "markdown",
      "id": "5e3efeb7-a315-46e7-90c3-e1a3276f0767",
      "metadata": {
        "id": "5e3efeb7-a315-46e7-90c3-e1a3276f0767"
      },
      "source": [
        "### Dynamic Typing"
      ]
    },
    {
      "cell_type": "code",
      "execution_count": null,
      "id": "a2e0d9fb-b759-4f56-aa55-6e381adbc4da",
      "metadata": {
        "id": "a2e0d9fb-b759-4f56-aa55-6e381adbc4da"
      },
      "outputs": [],
      "source": [
        "a=12\n",
        "str1=\"Krissh\"\n",
        "a=\"var\""
      ]
    },
    {
      "cell_type": "code",
      "execution_count": null,
      "id": "a28c8802-996d-44b0-977b-59428c76cb68",
      "metadata": {
        "id": "a28c8802-996d-44b0-977b-59428c76cb68",
        "outputId": "ed86fe44-d88c-496e-84ae-7d49ec15693f"
      },
      "outputs": [
        {
          "name": "stdout",
          "output_type": "stream",
          "text": [
            "<class 'str'>\n"
          ]
        }
      ],
      "source": [
        "print(type(a))"
      ]
    },
    {
      "cell_type": "code",
      "execution_count": null,
      "id": "cf6e3443-acd9-45a5-b020-fd4ce7430d3b",
      "metadata": {
        "id": "cf6e3443-acd9-45a5-b020-fd4ce7430d3b",
        "outputId": "3e1ec408-b1ac-4374-c375-05936eb1f3ae"
      },
      "outputs": [
        {
          "data": {
            "text/plain": [
              "1"
            ]
          },
          "execution_count": 86,
          "metadata": {},
          "output_type": "execute_result"
        }
      ],
      "source": [
        "int(1.54)"
      ]
    },
    {
      "cell_type": "code",
      "execution_count": null,
      "id": "3b9500aa-2400-4bed-bd8b-888771f0682a",
      "metadata": {
        "id": "3b9500aa-2400-4bed-bd8b-888771f0682a"
      },
      "outputs": [],
      "source": [
        "## concatenation between different types"
      ]
    },
    {
      "cell_type": "code",
      "execution_count": null,
      "id": "9194b55a-dacb-4151-ba1a-55752727ed03",
      "metadata": {
        "id": "9194b55a-dacb-4151-ba1a-55752727ed03",
        "outputId": "707395ae-a146-4556-d5cd-d8685d68d6a4"
      },
      "outputs": [
        {
          "ename": "TypeError",
          "evalue": "unsupported operand type(s) for +: 'int' and 'str'",
          "output_type": "error",
          "traceback": [
            "\u001b[0;31m---------------------------------------------------------------------------\u001b[0m",
            "\u001b[0;31mTypeError\u001b[0m                                 Traceback (most recent call last)",
            "Cell \u001b[0;32mIn[90], line 1\u001b[0m\n\u001b[0;32m----> 1\u001b[0m \u001b[38;5;28;43mint\u001b[39;49m\u001b[43m(\u001b[49m\u001b[38;5;124;43m\"\u001b[39;49m\u001b[38;5;124;43m1\u001b[39;49m\u001b[38;5;124;43m\"\u001b[39;49m\u001b[43m)\u001b[49m\u001b[43m \u001b[49m\u001b[38;5;241;43m+\u001b[39;49m\u001b[43m \u001b[49m\u001b[38;5;124;43m\"\u001b[39;49m\u001b[38;5;124;43m1\u001b[39;49m\u001b[38;5;124;43m\"\u001b[39;49m\n",
            "\u001b[0;31mTypeError\u001b[0m: unsupported operand type(s) for +: 'int' and 'str'"
          ]
        }
      ],
      "source": [
        "int(\"1\") + \"1\""
      ]
    },
    {
      "cell_type": "code",
      "execution_count": null,
      "id": "2e3cbfe3-9e1a-43f5-8ef4-418e31a90e01",
      "metadata": {
        "id": "2e3cbfe3-9e1a-43f5-8ef4-418e31a90e01",
        "outputId": "d4dc81c9-4ea8-4e84-93a6-71a27acb8961"
      },
      "outputs": [
        {
          "data": {
            "text/plain": [
              "'1111111111111111111111111111111111111111111111111111111111111111111111111111111111111111111111111111'"
            ]
          },
          "execution_count": 92,
          "metadata": {},
          "output_type": "execute_result"
        }
      ],
      "source": [
        "\"1\" * 100"
      ]
    },
    {
      "cell_type": "code",
      "execution_count": null,
      "id": "4ece8de7-4686-4635-9735-3f95b6d3660e",
      "metadata": {
        "id": "4ece8de7-4686-4635-9735-3f95b6d3660e"
      },
      "outputs": [],
      "source": []
    },
    {
      "cell_type": "code",
      "execution_count": null,
      "id": "aaa90912-fa74-44c5-9c17-9d552c8f8a91",
      "metadata": {
        "id": "aaa90912-fa74-44c5-9c17-9d552c8f8a91"
      },
      "outputs": [],
      "source": []
    },
    {
      "cell_type": "code",
      "execution_count": null,
      "id": "b57c6cf4-667e-463d-a1fb-780f61d15d91",
      "metadata": {
        "id": "b57c6cf4-667e-463d-a1fb-780f61d15d91"
      },
      "outputs": [],
      "source": []
    },
    {
      "cell_type": "code",
      "execution_count": null,
      "id": "e8e9009c-e8cd-421b-807f-4dd923a9f708",
      "metadata": {
        "id": "e8e9009c-e8cd-421b-807f-4dd923a9f708"
      },
      "outputs": [],
      "source": []
    }
  ],
  "metadata": {
    "kernelspec": {
      "display_name": "Python 3 (ipykernel)",
      "language": "python",
      "name": "python3"
    },
    "language_info": {
      "codemirror_mode": {
        "name": "ipython",
        "version": 3
      },
      "file_extension": ".py",
      "mimetype": "text/x-python",
      "name": "python",
      "nbconvert_exporter": "python",
      "pygments_lexer": "ipython3",
      "version": "3.10.8"
    },
    "colab": {
      "provenance": []
    }
  },
  "nbformat": 4,
  "nbformat_minor": 5
}